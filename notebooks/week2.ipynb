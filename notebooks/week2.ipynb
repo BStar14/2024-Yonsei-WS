{
 "cells": [
  {
   "cell_type": "code",
   "execution_count": null,
   "metadata": {},
   "outputs": [],
   "source": [
    "import warnings\n",
    "warnings.filterwarnings(action='ignore')  # 실행 중 표시되는 경고를 무시합니다 (optional)\n",
    "\n",
    "# 필요한 라이브러리들을 불러와봅시다\n",
    "import qiskit\n",
    "import qiskit_ibm_runtime\n",
    "import qiskit_machine_learning\n",
    "import qiskit_optimization\n",
    "\n",
    "import qiskit.tools.jupyter\n",
    "%qiskit_version_table  # import 된 qiskit 라이브러리들의 버전을 표시합니다"
   ]
  },
  {
   "cell_type": "code",
   "execution_count": null,
   "metadata": {},
   "outputs": [],
   "source": [
    "import numpy as np\n",
    "from qiskit import QuantumCircuit\n",
    "from qiskit.quantum_info import Statevector\n",
    "from qiskit.visualization import plot_bloch_multivector"
   ]
  },
  {
   "cell_type": "code",
   "execution_count": null,
   "metadata": {},
   "outputs": [],
   "source": [
    "state = Statevector(np.array([1.+0.j, 1.-1.j])/np.sqrt(3))\n",
    "plot_bloch_multivector(state)"
   ]
  },
  {
   "cell_type": "code",
   "execution_count": null,
   "metadata": {},
   "outputs": [],
   "source": [
    "circuit = QuantumCircuit(3)\n",
    "circuit.initialize(state, qubits=[0])\n",
    "circuit.h(1)\n",
    "circuit.cx(1, 2)\n",
    "circuit.barrier()\n",
    "circuit.cx(0, 1)\n",
    "circuit.h(0)\n",
    "circuit.barrier()\n",
    "circuit.cz(0, 2)\n",
    "circuit.cx(1, 2)\n",
    "circuit.draw('mpl')"
   ]
  },
  {
   "cell_type": "code",
   "execution_count": null,
   "metadata": {},
   "outputs": [],
   "source": []
  }
 ],
 "metadata": {
  "kernelspec": {
   "display_name": "yonsei-ws",
   "language": "python",
   "name": "python3"
  },
  "language_info": {
   "codemirror_mode": {
    "name": "ipython",
    "version": 3
   },
   "file_extension": ".py",
   "mimetype": "text/x-python",
   "name": "python",
   "nbconvert_exporter": "python",
   "pygments_lexer": "ipython3",
   "version": "3.12.1"
  }
 },
 "nbformat": 4,
 "nbformat_minor": 2
}
