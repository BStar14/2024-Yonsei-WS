{
 "cells": [
  {
   "cell_type": "code",
   "execution_count": null,
   "metadata": {},
   "outputs": [],
   "source": [
    "import warnings\n",
    "warnings.filterwarnings(action='ignore')  # 실행 중 표시되는 경고를 무시합니다 (optional)\n",
    "\n",
    "# 필요한 라이브러리들을 불러와봅시다\n",
    "import qiskit\n",
    "import qiskit_ibm_runtime\n",
    "import qiskit_machine_learning\n",
    "import qiskit_optimization\n",
    "\n",
    "import qiskit.tools.jupyter\n",
    "%qiskit_version_table  # import 된 qiskit 라이브러리들의 버전을 표시합니다"
   ]
  },
  {
   "cell_type": "code",
   "execution_count": null,
   "metadata": {},
   "outputs": [],
   "source": [
    "# 사용할 클래스와 함수를 불러옵니다\n",
    "import numpy as np\n",
    "from qiskit import QuantumCircuit\n",
    "from qiskit.quantum_info import Statevector\n",
    "from qiskit.visualization import plot_bloch_multivector"
   ]
  },
  {
   "cell_type": "code",
   "execution_count": null,
   "metadata": {},
   "outputs": [],
   "source": [
    "# 양자 회로를 정의합니다\n",
    "circuit = QuantumCircuit(1)\n",
    "\n",
    "circuit.draw('mpl')  # 만들어진 양자 회로를 그려봅니다"
   ]
  },
  {
   "cell_type": "code",
   "execution_count": null,
   "metadata": {},
   "outputs": [],
   "source": [
    "state = Statevector.from_instruction(circuit)  # 만들어진 양자 회로로부터 상태 벡터를 계산합니다\n",
    "plot_bloch_multivector(state)  # 계산된 상태 벡터를 Bloch sphere로 나타냅니다"
   ]
  },
  {
   "cell_type": "code",
   "execution_count": null,
   "metadata": {},
   "outputs": [],
   "source": [
    "# 사용할 클래스와 함수를 불러옵니다\n",
    "from qiskit.primitives import Sampler\n",
    "from qiskit.visualization import plot_distribution"
   ]
  },
  {
   "cell_type": "code",
   "execution_count": null,
   "metadata": {},
   "outputs": [],
   "source": [
    "circuit.measure_all()  # 모든 큐빗을 측정합니다\n",
    "circuit.draw('mpl')  # 측정이 들어간 양자 회로를 그려봅니다"
   ]
  },
  {
   "cell_type": "code",
   "execution_count": null,
   "metadata": {},
   "outputs": [],
   "source": [
    "sampler = Sampler()  # 사용할 primitive를 정의합니다\n",
    "job = sampler.run(circuit)  # 지정된 primitive를 사용해 회로를 실행합니다\n",
    "result = job.result()  # Job의 실행 결과를 받아옵니다\n",
    "prob_distribution = result.quasi_dists[0].binary_probabilities()  # 실행 결과에서 확률분포를 확인합니다\n",
    "plot_distribution(prob_distribution)  # 확률분포를 히스토그램으로 나타냅니다"
   ]
  },
  {
   "cell_type": "code",
   "execution_count": null,
   "metadata": {},
   "outputs": [],
   "source": []
  }
 ],
 "metadata": {
  "kernelspec": {
   "display_name": "Python 3 (ipykernel)",
   "language": "python",
   "name": "python3"
  },
  "language_info": {
   "codemirror_mode": {
    "name": "ipython",
    "version": 3
   },
   "file_extension": ".py",
   "mimetype": "text/x-python",
   "name": "python",
   "nbconvert_exporter": "python",
   "pygments_lexer": "ipython3",
   "version": "3.12.1"
  }
 },
 "nbformat": 4,
 "nbformat_minor": 4
}
